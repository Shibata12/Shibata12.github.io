{
  "cells": [
    {
      "cell_type": "markdown",
      "source": [
        "# デフォルト引数の注意点\n",
        "**投稿日：2022年2月13日<br>最終更新日：2022年2月13日**\n",
        "\n",
        "**参照p.181 9.3.4 デフォルト引数値の指定**\n",
        "\n",
        "デフォルト引数値としてリストや辞書などのミュータブルなデータ型を使用するのは良くないそうです。例えば以下のコードのようにデフォルト引数値を`result=[]`としている場合です。"
      ],
      "metadata": {
        "id": "dgUNeIc9Nokc"
      }
    },
    {
      "cell_type": "code",
      "execution_count": 1,
      "metadata": {
        "id": "lIYdn1woOS1n"
      },
      "outputs": [],
      "source": [
        "def buggy(arg, result=[]):\n",
        "    result.append(arg)\n",
        "    print(result)"
      ]
    },
    {
      "cell_type": "code",
      "source": [
        "buggy(\"a\")"
      ],
      "metadata": {
        "id": "-_FQ9Q-jRGkx",
        "outputId": "f5a3e2eb-1d77-424c-b9cb-bc816e7941a1",
        "colab": {
          "base_uri": "https://localhost:8080/"
        }
      },
      "execution_count": 2,
      "outputs": [
        {
          "output_type": "stream",
          "name": "stdout",
          "text": [
            "['a']\n"
          ]
        }
      ]
    },
    {
      "cell_type": "code",
      "source": [
        "buggy(\"b\")  # ['b']が返されることを想定していた"
      ],
      "metadata": {
        "id": "lWVqLaXDRJ2B",
        "outputId": "ad7d451e-9595-420b-e113-6cc25758e7e6",
        "colab": {
          "base_uri": "https://localhost:8080/"
        }
      },
      "execution_count": 3,
      "outputs": [
        {
          "output_type": "stream",
          "name": "stdout",
          "text": [
            "['a', 'b']\n"
          ]
        }
      ]
    },
    {
      "cell_type": "markdown",
      "source": [
        "デフォルト引数の値が計算されるのは、関数が呼び出された時ではなく、定義されるときです。デフォルト引数値の`result=[]`は関数定義時にしか実行されません。\n",
        "\n",
        "このコードは次のように書いておけば想定した動作をするでしょう。"
      ],
      "metadata": {
        "id": "Mr4wLmaCRPdf"
      }
    },
    {
      "cell_type": "code",
      "source": [
        "def works(arg):\n",
        "    result = []\n",
        "    result.append(arg)\n",
        "    return result"
      ],
      "metadata": {
        "id": "_-7R1OQIRLMg"
      },
      "execution_count": 4,
      "outputs": []
    },
    {
      "cell_type": "code",
      "source": [
        "works(\"a\")"
      ],
      "metadata": {
        "id": "w0y30rWjThq5",
        "outputId": "039fc88f-2124-419b-a9a4-395663f5f6e4",
        "colab": {
          "base_uri": "https://localhost:8080/"
        }
      },
      "execution_count": 5,
      "outputs": [
        {
          "output_type": "execute_result",
          "data": {
            "text/plain": [
              "['a']"
            ]
          },
          "metadata": {},
          "execution_count": 5
        }
      ]
    },
    {
      "cell_type": "code",
      "source": [
        "works(\"b\")"
      ],
      "metadata": {
        "id": "sTXXDUC0Tkos",
        "outputId": "44b81431-f1a1-47d2-f53c-de77e9ea7570",
        "colab": {
          "base_uri": "https://localhost:8080/"
        }
      },
      "execution_count": 6,
      "outputs": [
        {
          "output_type": "execute_result",
          "data": {
            "text/plain": [
              "['b']"
            ]
          },
          "metadata": {},
          "execution_count": 6
        }
      ]
    },
    {
      "cell_type": "markdown",
      "source": [
        "以下のコードの方法もあります。"
      ],
      "metadata": {
        "id": "YodL59dTTwdS"
      }
    },
    {
      "cell_type": "code",
      "source": [
        "def nobuggy(arg, result=None):\n",
        "    if result is None:\n",
        "        result = []\n",
        "    result.append(arg)\n",
        "    print(result)"
      ],
      "metadata": {
        "id": "cvUvxBNFTl6G"
      },
      "execution_count": 7,
      "outputs": []
    },
    {
      "cell_type": "code",
      "source": [
        "nobuggy(\"a\")"
      ],
      "metadata": {
        "id": "rf0K6yHcVLnB",
        "outputId": "46a1c923-8448-4ccd-8564-2552b2721d53",
        "colab": {
          "base_uri": "https://localhost:8080/"
        }
      },
      "execution_count": 8,
      "outputs": [
        {
          "output_type": "stream",
          "name": "stdout",
          "text": [
            "['a']\n"
          ]
        }
      ]
    },
    {
      "cell_type": "code",
      "source": [
        "nobuggy(\"b\")"
      ],
      "metadata": {
        "id": "5OMB5tRpVNhD",
        "outputId": "4bee66ad-5a7a-4676-a1a1-79307153555c",
        "colab": {
          "base_uri": "https://localhost:8080/"
        }
      },
      "execution_count": 9,
      "outputs": [
        {
          "output_type": "stream",
          "name": "stdout",
          "text": [
            "['b']\n"
          ]
        }
      ]
    }
  ],
  "metadata": {
    "colab": {
      "name": "scratchpad",
      "provenance": []
    },
    "kernelspec": {
      "display_name": "Python 3",
      "name": "python3"
    }
  },
  "nbformat": 4,
  "nbformat_minor": 0
}