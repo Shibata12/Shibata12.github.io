{
 "cells": [
  {
   "cell_type": "markdown",
   "metadata": {
    "id": "fjYVjdCejkjl"
   },
   "source": [
    "# 第3章　分類問題\n",
    "**投稿日：2022年01月04日<br>最終更新日：2022年01月04日**\n",
    "\n",
    "この章では教師あり学習の分類問題を扱う。scikit-learnのデータセットを使用して分類器を学習し評価する一通りの流れを確認する。"
   ]
  },
  {
   "cell_type": "markdown",
   "metadata": {
    "id": "OIsmDW6OkKH9"
   },
   "source": [
    "## データセットの読み込みと分割\n",
    "\n",
    "scikit-learnにはデータセットが同梱されている（[7. Dataset loading utilities — scikit-learn 1.0.1 documentation](https://scikit-learn.org/stable/datasets.html)）。ここでは手書き数字データセットを使用する。0～9の数字のうち3と8の数字を利用する。データセットの60％を訓練データに、40％をテストデータにする。"
   ]
  },
  {
   "cell_type": "markdown",
   "metadata": {
    "id": "HlceV40DyAOq"
   },
   "source": [
    "`sklearn.datasets`の`load_digits`を`digits_data`としてインスタンス化する。"
   ]
  },
  {
   "cell_type": "code",
   "execution_count": 1,
   "metadata": {
    "id": "FnJuG5Yvjg2z"
   },
   "outputs": [],
   "source": [
    "from sklearn.datasets import load_digits\n",
    "digits_data = load_digits()"
   ]
  },
  {
   "cell_type": "markdown",
   "metadata": {
    "id": "5tJ1KELJ7vVt"
   },
   "source": [
    "`digits_data`の形式を確認する。形式は(n_samples, n_features)である。"
   ]
  },
  {
   "cell_type": "code",
   "execution_count": 2,
   "metadata": {
    "colab": {
     "base_uri": "https://localhost:8080/"
    },
    "id": "Gkjh0Gcz8P7S",
    "outputId": "be06f859-a4be-43f8-a06a-7c0b2a12c091"
   },
   "outputs": [
    {
     "data": {
      "text/plain": [
       "(1797, 64)"
      ]
     },
     "execution_count": 2,
     "metadata": {},
     "output_type": "execute_result"
    }
   ],
   "source": [
    "digits_data.data.shape"
   ]
  },
  {
   "cell_type": "markdown",
   "metadata": {
    "id": "n1jdyGmj_tbA"
   },
   "source": [
    "1枚の手書き数字を表示する。8×8のモノクロ画像である。"
   ]
  },
  {
   "cell_type": "code",
   "execution_count": 3,
   "metadata": {
    "colab": {
     "base_uri": "https://localhost:8080/",
     "height": 275
    },
    "id": "bEP3t9Kd_G7U",
    "outputId": "7764be4d-1d84-40c7-bcd4-d88a4b3657b3"
   },
   "outputs": [
    {
     "data": {
      "image/png": "[encoded data removed]",
      "text/plain": [
       "<Figure size 288x288 with 1 Axes>"
      ]
     },
     "metadata": {
      "filenames": {
       "image/png": "C:\\Users\\ks122\\Shibata12.github.io\\_build\\jupyter_execute\\備忘録\\書籍_Pythonによる機械学習入門\\chapter3_7_0.png"
      },
      "needs_background": "light"
     },
     "output_type": "display_data"
    }
   ],
   "source": [
    "import matplotlib.pyplot as plt\n",
    "plt.matshow(digits_data.images[0], cmap=\"gray\")\n",
    "plt.show()"
   ]
  },
  {
   "cell_type": "markdown",
   "metadata": {
    "id": "JP1mKsI9ZqT5"
   },
   "source": [
    "scikit-learnにはデータセットを分割する`train_test_split`関数が用意されている。ここでは数字の3と8の画像を利用する。"
   ]
  },
  {
   "cell_type": "code",
   "execution_count": 4,
   "metadata": {
    "colab": {
     "base_uri": "https://localhost:8080/"
    },
    "id": "h1hF5d-MZnqM",
    "outputId": "4667cae8-f029-4b5a-859d-0b29fee0f799"
   },
   "outputs": [
    {
     "data": {
      "text/plain": [
       "array([3, 3, 3, 8, 8, 3, 3, 3, 3, 8, 8, 3, 8, 3, 3, 8, 8, 8, 3, 3, 8, 8,\n",
       "       3, 8, 8, 8, 3, 8, 8, 8, 8, 3, 8, 8, 3, 8, 8, 3, 8, 8, 8, 3, 3, 8,\n",
       "       8, 8, 3, 8, 8, 8, 3, 3, 8, 8, 8, 8, 3, 8, 3, 3, 8, 3, 3, 3, 8, 8,\n",
       "       8, 3, 8, 8, 3, 8, 8, 8, 3, 3, 3, 3, 8, 8, 3, 8, 3, 3, 3, 3, 3, 8,\n",
       "       3, 3, 3, 8, 3, 3, 3, 3, 3, 8, 8, 3, 3, 3, 8, 3, 8, 8, 3, 3, 3, 3,\n",
       "       3, 8, 8, 3, 8, 3, 8, 3, 3, 8, 3, 3, 3, 8, 8, 8, 3, 8, 8, 3, 3, 3,\n",
       "       3, 3, 8, 8, 8, 8, 3, 3, 8, 3, 8, 8, 8, 3, 3, 3, 8, 8, 3, 8, 8, 8,\n",
       "       8, 3, 8, 8, 3, 8, 8, 3, 8, 8, 3, 3, 8, 8, 8, 3, 8, 3, 8, 8, 8, 8,\n",
       "       3, 3, 3, 3, 8, 3, 8, 8, 3, 8, 8, 8, 8, 3, 8, 3, 3, 8, 8, 3, 8, 3,\n",
       "       3, 8, 8, 8, 8, 8, 3, 8, 8, 3, 8, 8, 8, 3, 8, 3])"
      ]
     },
     "execution_count": 4,
     "metadata": {},
     "output_type": "execute_result"
    }
   ],
   "source": [
    "from sklearn.model_selection import train_test_split\n",
    "\n",
    "flag_3_8 = (digits_data.target == 3) + (digits_data.target == 8)\n",
    "X_train, X_test, y_train, y_test = train_test_split(digits_data.data[flag_3_8],\n",
    "                                                    digits_data.target[flag_3_8],\n",
    "                                                    test_size=0.4,\n",
    "                                                    random_state=1)\n",
    "y_train"
   ]
  },
  {
   "cell_type": "markdown",
   "metadata": {
    "id": "tMM2-yYOs1Xx"
   },
   "source": [
    "訓練データとテストデータのサンプル数を確認する。"
   ]
  },
  {
   "cell_type": "code",
   "execution_count": 5,
   "metadata": {
    "colab": {
     "base_uri": "https://localhost:8080/"
    },
    "id": "V23MhhU_soZo",
    "outputId": "4de05839-82d4-4697-c4d5-69789714f70a"
   },
   "outputs": [
    {
     "data": {
      "text/plain": [
       "((214, 64), (143, 64))"
      ]
     },
     "execution_count": 5,
     "metadata": {},
     "output_type": "execute_result"
    }
   ],
   "source": [
    "X_train.shape, X_test.shape"
   ]
  },
  {
   "cell_type": "markdown",
   "metadata": {
    "id": "-rbr1mSEklOs"
   },
   "source": [
    "## 色々な分類器\n",
    "\n",
    "分類器にはscikit-learnに実装されている決定木、ランダムフォレスト、AdaBoost、サポートベクターマシンを使用する。"
   ]
  },
  {
   "cell_type": "markdown",
   "metadata": {
    "id": "ProJ3Zeslvza"
   },
   "source": [
    "**決定木**<br>\n",
    "決定木の最大の深さは`max_depth=3`とした。"
   ]
  },
  {
   "cell_type": "code",
   "execution_count": 6,
   "metadata": {
    "colab": {
     "base_uri": "https://localhost:8080/"
    },
    "id": "75kecKMBksJi",
    "outputId": "26175115-6926-42fe-f995-6080b8fd7f8d"
   },
   "outputs": [
    {
     "name": "stdout",
     "output_type": "stream",
     "text": [
      "　訓練データ正解率0.985981308411215\n",
      "テストデータ正解率0.951048951048951\n"
     ]
    }
   ],
   "source": [
    "from sklearn.tree import DecisionTreeClassifier\n",
    "\n",
    "tree = DecisionTreeClassifier(max_depth=3, random_state=1)\n",
    "tree.fit(X_train, y_train)\n",
    "print(f\"　訓練データ正解率{tree.score(X_train, y_train)}\")\n",
    "print(f\"テストデータ正解率{tree.score(X_test, y_test)}\")"
   ]
  },
  {
   "cell_type": "markdown",
   "metadata": {
    "id": "3Pj3O5kilyEM"
   },
   "source": [
    "**ランダムフォレスト**<br>\n",
    "アンサンブルに用いる決定木の数は`n_estimators=20`とし、個々の決定木の最大深さは`max_depth=3`とした。"
   ]
  },
  {
   "cell_type": "code",
   "execution_count": 7,
   "metadata": {
    "colab": {
     "base_uri": "https://localhost:8080/"
    },
    "id": "nd_KSJ3GlzmN",
    "outputId": "09ae09f3-0269-48b4-e555-6cc656ef6d33"
   },
   "outputs": [
    {
     "name": "stdout",
     "output_type": "stream",
     "text": [
      "　訓練データ正解率0.9953271028037384\n",
      "テストデータ正解率0.9790209790209791\n"
     ]
    }
   ],
   "source": [
    "from sklearn.ensemble import RandomForestClassifier\n",
    "\n",
    "random_forest = RandomForestClassifier(n_estimators=20,\n",
    "                                       max_depth=3,\n",
    "                                       random_state=1)\n",
    "random_forest.fit(X_train, y_train)\n",
    "print(f\"　訓練データ正解率{random_forest.score(X_train, y_train)}\")\n",
    "print(f\"テストデータ正解率{random_forest.score(X_test, y_test)}\")"
   ]
  },
  {
   "cell_type": "markdown",
   "metadata": {
    "id": "0BG4TgqRl0Fw"
   },
   "source": [
    "**AdaBoost**<br>\n",
    "アンサンブルに用いる学習器は決定木を指定している（`base_estimator=estimator`）。決定木の数は`n_estimators=20`とし、個々の決定木の最大深さは`max_depth=3`とした。"
   ]
  },
  {
   "cell_type": "code",
   "execution_count": 8,
   "metadata": {
    "colab": {
     "base_uri": "https://localhost:8080/"
    },
    "id": "qSFxnwGUl1WU",
    "outputId": "918dced5-37cc-49f1-8d29-100247b1c2c6"
   },
   "outputs": [
    {
     "name": "stdout",
     "output_type": "stream",
     "text": [
      "　訓練データ正解率1.0\n",
      "テストデータ正解率0.9790209790209791\n"
     ]
    }
   ],
   "source": [
    "from sklearn.ensemble import AdaBoostClassifier\n",
    "\n",
    "estimator = DecisionTreeClassifier(max_depth=3, random_state=1)\n",
    "adaboost = AdaBoostClassifier(base_estimator=estimator,\n",
    "                              n_estimators=20,\n",
    "                              random_state=1)\n",
    "adaboost.fit(X_train, y_train)\n",
    "print(f\"　訓練データ正解率{adaboost.score(X_train, y_train)}\")\n",
    "print(f\"テストデータ正解率{adaboost.score(X_test, y_test)}\")"
   ]
  },
  {
   "cell_type": "markdown",
   "metadata": {
    "id": "JgIdm_Lel183"
   },
   "source": [
    "**サポートベクターマシン**<br>\n",
    "どの程度誤分類を許容するかを表すペナルティパラメータは`C=1.0`とし、分類曲面の複雑度を表すパラメータは`gamma=0.001`（ほぼ平面）とした。"
   ]
  },
  {
   "cell_type": "code",
   "execution_count": 9,
   "metadata": {
    "colab": {
     "base_uri": "https://localhost:8080/"
    },
    "id": "zgb5khOWl4YH",
    "outputId": "0ccf9e76-6b05-4e52-87ed-03477b4ef8e0"
   },
   "outputs": [
    {
     "name": "stdout",
     "output_type": "stream",
     "text": [
      "　訓練データ正解率1.0\n",
      "テストデータ正解率1.0\n"
     ]
    }
   ],
   "source": [
    "from sklearn.svm import SVC\n",
    "\n",
    "support_vector_machine = SVC(C=1.0, gamma=0.001, random_state=1)\n",
    "support_vector_machine.fit(X_train, y_train)\n",
    "print(f\"　訓練データ正解率{support_vector_machine.score(X_train, y_train)}\")\n",
    "print(f\"テストデータ正解率{support_vector_machine.score(X_test, y_test)}\")"
   ]
  },
  {
   "cell_type": "markdown",
   "metadata": {
    "id": "NayZUFQ5l5Zn"
   },
   "source": [
    "## 評価指標\n",
    "\n",
    "ここでは2クラス分類問題における混同行列、正解率、適合率、再現率、F値を説明する。混同行列と正解率は多クラス分類問題でも使用できる。"
   ]
  },
  {
   "cell_type": "markdown",
   "metadata": {
    "id": "yn9RhoHolw5D"
   },
   "source": [
    "**混同行列（confusion matrix）**<br>\n",
    "2クラス分類問題において、2種類のラベルのうち注目しているラベルを陽性（Positive）クラスとよび、もう一方のラベルを陰性（Negative）クラスとよぶ。例えば、病気の検査の陽性（病気である）と陰性（病気ではない）を考える。病気の検査で注目されるのは陽性である。検査で陽性となれば、さらなる精密検査を行うだろう。\n",
    "\n",
    "実際は陰性クラスであるものを陰性と判定することをTrue Negative（TN）、実際は陰性クラスであるものを陽性と判定することをFalse Positive（FP）、実際は陽性クラスであるものを陰性と判定することをFalse Negative（FN）、実際は陽性クラスであるものを陽性と判定することをTrue Positive（TP）とよぶ。これらTN、FP、FN、TPを表にまとめたものを混同行列とよぶ。\n",
    "\n",
    "```{image} 混同行列.svg\n",
    ":align: center\n",
    ":width: 350px\n",
    "```\n",
    "\n",
    "<!--\n",
    "<img src=\"混同行列.svg\" width=\"300px\">\n",
    "-->\n",
    "訓練済みの決定木の混同行列を実際に表示してみる。ここでの例では8が陽性クラスに対応している。"
   ]
  },
  {
   "cell_type": "code",
   "execution_count": 13,
   "metadata": {
    "colab": {
     "base_uri": "https://localhost:8080/"
    },
    "id": "AInYfE0Zl8YM",
    "outputId": "c3893e5f-843a-49fc-bca9-e428d9adf832"
   },
   "outputs": [
    {
     "name": "stdout",
     "output_type": "stream",
     "text": [
      "[[78  5]\n",
      " [ 2 58]]\n"
     ]
    }
   ],
   "source": [
    "from sklearn.metrics import confusion_matrix\n",
    "\n",
    "y_predict = tree.predict(X_test)\n",
    "print(confusion_matrix(y_test, y_predict))"
   ]
  },
  {
   "cell_type": "markdown",
   "metadata": {
    "id": "aKq_-sen-Ovt"
   },
   "source": [
    "**正解率（accuracy）**<br>\n",
    "正解率は次のように計算される。\n",
    "\\begin{gather*}\n",
    "正解率 = \\frac{TP + TN}{TP + TN + FP + FN}\n",
    "\\end{gather*}\n",
    "ラベル間のサンプル数に大きな偏りがある場合、正解率は適切な評価指標とは言えない。\n",
    "\n",
    "**適合率（precision）、再現率（recall）**<br>\n",
    "適合率と再現率は次のように計算される。\n",
    "\\begin{gather*}\n",
    "適合率 = \\frac{TP}{TP + FP} \\\\\n",
    "再現率 = \\frac{TP}{TP + FN}\n",
    "\\end{gather*}\n",
    "適合率は陽性と判定したもののうち実際に陽性であった割合である。再現率は実際に陽性であるもののうち陽性と判定できた割合である。適合率と再現率の最適化はトレードオフの関係があり、一方の評価指標を向上させようとするともう一方は低下する。\n",
    "\n",
    "**F値（f-score）**<br>\n",
    "F値は次のように計算される。\n",
    "\\begin{gather*}\n",
    "F値 = 2 \\times \\frac{適合率 \\times 再現率}{適合率 + 再現率}\n",
    "\\end{gather*}\n",
    "F値は適合率と再現率の双方を取り入れた評価指標である。\n",
    "\n",
    "正解率、適合率、再現率、F値は`sklearn.metrics`に含まれる`accuracy_score`、`precision_score`、`recall_score`、`f1_score`により求めることができる。ここでは、これらの評価指標をまとめて表示する`classification_report`を用いて訓練済みの決定木の評価を行う。"
   ]
  },
  {
   "cell_type": "code",
   "execution_count": 16,
   "metadata": {
    "colab": {
     "base_uri": "https://localhost:8080/"
    },
    "id": "gvCeWP1399dm",
    "outputId": "e8b60ceb-2700-4e57-d644-7e21c939b544"
   },
   "outputs": [
    {
     "name": "stdout",
     "output_type": "stream",
     "text": [
      "              precision    recall  f1-score   support\n",
      "\n",
      "           3   0.975000  0.939759  0.957055        83\n",
      "           8   0.920635  0.966667  0.943089        60\n",
      "\n",
      "    accuracy                       0.951049       143\n",
      "   macro avg   0.947817  0.953213  0.950072       143\n",
      "weighted avg   0.952189  0.951049  0.951195       143\n",
      "\n"
     ]
    }
   ],
   "source": [
    "from sklearn.metrics import classification_report\n",
    "\n",
    "print(classification_report(y_test, y_predict, digits=6))"
   ]
  },
  {
   "cell_type": "markdown",
   "metadata": {
    "id": "GzvBp0KtJHLf"
   },
   "source": [
    "それぞれのクラスを陽性とした場合の適合率、再現率、Ｆ値を表示している。supportはそれぞれのクラスのサンプル数を表している。macro avgは単純に平均したものを表し、weighted avgはサンプル数を考慮した平均を表している。"
   ]
  }
 ],
 "metadata": {
  "colab": {
   "collapsed_sections": [],
   "name": "chapter3.ipynb",
   "provenance": [],
   "toc_visible": true
  },
  "hide_input": false,
  "kernelspec": {
   "display_name": "Python 3 (ipykernel)",
   "language": "python",
   "name": "python3"
  },
  "language_info": {
   "codemirror_mode": {
    "name": "ipython",
    "version": 3
   },
   "file_extension": ".py",
   "mimetype": "text/x-python",
   "name": "python",
   "nbconvert_exporter": "python",
   "pygments_lexer": "ipython3",
   "version": "3.7.11"
  }
 },
 "nbformat": 4,
 "nbformat_minor": 4
}