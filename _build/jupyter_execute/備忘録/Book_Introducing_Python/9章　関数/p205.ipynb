{
 "cells": [
  {
   "cell_type": "markdown",
   "metadata": {
    "id": "NrvS1BPHJzBa"
   },
   "source": [
    "# 再帰を利用したリストのリストのリストの平坦化\n",
    "**投稿日：2022年2月15日<br>最終更新日：2022年2月15日**\n",
    "\n",
    "**参照  [入門 Python 3 第2版 オライリー・ジャパン](https://www.oreilly.co.jp/books/9784873119328/) p.205**\n",
    "\n",
    "Python 3.3 で追加された`yield from`を使用する。これはジェネレータがほかのジェネレータに仕事の一部を委ねることができる。"
   ]
  },
  {
   "cell_type": "code",
   "execution_count": 1,
   "metadata": {
    "id": "lIYdn1woOS1n"
   },
   "outputs": [],
   "source": [
    "def flatten(lol):\n",
    "    for item in lol:\n",
    "        if isinstance(item, list):\n",
    "            yield from flatten(item)\n",
    "        else:\n",
    "            yield item"
   ]
  },
  {
   "cell_type": "code",
   "execution_count": 2,
   "metadata": {
    "colab": {
     "base_uri": "https://localhost:8080/"
    },
    "id": "AH0xiVa2LJU1",
    "outputId": "506a7194-9155-4f49-dcd4-e09dd859257b"
   },
   "outputs": [
    {
     "data": {
      "text/plain": [
       "<generator object flatten at 0x7fc1ac98bdd0>"
      ]
     },
     "execution_count": 2,
     "metadata": {},
     "output_type": "execute_result"
    }
   ],
   "source": [
    "lol = [1, 2, [3,4,5], [6,[7,8,9],[]]]\n",
    "flatten(lol)"
   ]
  },
  {
   "cell_type": "code",
   "execution_count": 3,
   "metadata": {
    "colab": {
     "base_uri": "https://localhost:8080/"
    },
    "id": "VQZSF7T-KbbL",
    "outputId": "8bb95e52-111a-41ef-b872-332c791cadb4"
   },
   "outputs": [
    {
     "data": {
      "text/plain": [
       "[1, 2, 3, 4, 5, 6, 7, 8, 9]"
      ]
     },
     "execution_count": 3,
     "metadata": {},
     "output_type": "execute_result"
    }
   ],
   "source": [
    "list(flatten(lol))"
   ]
  }
 ],
 "metadata": {
  "colab": {
   "name": "scratchpad",
   "provenance": []
  },
  "kernelspec": {
   "display_name": "Python 3",
   "name": "python3"
  }
 },
 "nbformat": 4,
 "nbformat_minor": 0
}