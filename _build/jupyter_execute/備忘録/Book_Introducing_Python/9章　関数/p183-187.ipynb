{
 "cells": [
  {
   "cell_type": "markdown",
   "metadata": {
    "id": "Hon6hrhTNHu4"
   },
   "source": [
    "# 関数の引数で見かける「\\*args」,「\\*\\*kwargs」,「\\*」\n",
    "**投稿日：2022年2月14日<br>最終更新日：2022年2月14日**\n",
    "\n",
    "**参照  [入門 Python 3 第2版 オライリー・ジャパン](https://www.oreilly.co.jp/books/9784873119328/) pp.183-187**\n",
    "\n",
    "ドキュメントを読んでいると、関数の引数に「\\*args」,「\\*\\*kwargs」,「\\*」といった文字を見かけます。「\\*args」は可変個の実引数をとることができます。「\\*\\*kwargs」は複数のキーワード引数を1個の辞書にまとめることができます。「\\*」はキーワード専用引数を指定できます。"
   ]
  },
  {
   "cell_type": "markdown",
   "metadata": {
    "id": "GUrTixRfVQIx"
   },
   "source": [
    "## 「\\*args」 \\*による位置引数"
   ]
  },
  {
   "cell_type": "code",
   "execution_count": 1,
   "metadata": {
    "id": "lIYdn1woOS1n"
   },
   "outputs": [],
   "source": [
    "def print_args(*args):\n",
    "    print(\"Positional tuple:\", args)"
   ]
  },
  {
   "cell_type": "markdown",
   "metadata": {
    "id": "5wOvh4-CW4WF"
   },
   "source": [
    "関数呼び出しの実引数を複数指定することができる。複数の引数は関数内でタプルとして扱われる。"
   ]
  },
  {
   "cell_type": "code",
   "execution_count": 2,
   "metadata": {
    "colab": {
     "base_uri": "https://localhost:8080/"
    },
    "id": "xNcqM6CtWWzJ",
    "outputId": "c2781719-9f19-4b6e-b7ea-2a210888ebbc"
   },
   "outputs": [
    {
     "name": "stdout",
     "output_type": "stream",
     "text": [
      "Positional tuple: (1, 2, 3, 'よん')\n"
     ]
    }
   ],
   "source": [
    "print_args(1, 2, 3, \"よん\")"
   ]
  },
  {
   "cell_type": "markdown",
   "metadata": {
    "id": "_kp1yHqVXouE"
   },
   "source": [
    "`*a`として渡すとタプルのアンパックが行われる。"
   ]
  },
  {
   "cell_type": "code",
   "execution_count": 3,
   "metadata": {
    "colab": {
     "base_uri": "https://localhost:8080/"
    },
    "id": "VQbLL4ArWlbv",
    "outputId": "532deb71-dd9b-4f7d-a61f-1374ef2c530a"
   },
   "outputs": [
    {
     "name": "stdout",
     "output_type": "stream",
     "text": [
      "Positional tuple: ((1, 2, 3, 4),)\n",
      "Positional tuple: (1, 2, 3, 4)\n"
     ]
    }
   ],
   "source": [
    "a = (1, 2, 3, 4)\n",
    "print_args(a)\n",
    "print_args(*a)"
   ]
  },
  {
   "cell_type": "markdown",
   "metadata": {
    "id": "eP-fjbAPYzsW"
   },
   "source": [
    "## 「\\*\\*kwargs」 \\*\\*によるキーワード引数"
   ]
  },
  {
   "cell_type": "code",
   "execution_count": 4,
   "metadata": {
    "id": "kwjgOdl3XhJj"
   },
   "outputs": [],
   "source": [
    "def print_kwargs(**kwargs):\n",
    "    print(\"Keyword arguments:\", kwargs)"
   ]
  },
  {
   "cell_type": "markdown",
   "metadata": {
    "id": "sIj6UN63ZwEv"
   },
   "source": [
    "複数のキーワード引数を渡すことができる。複数のキーワード引数は関数内で辞書として扱われる。"
   ]
  },
  {
   "cell_type": "code",
   "execution_count": 5,
   "metadata": {
    "colab": {
     "base_uri": "https://localhost:8080/"
    },
    "id": "DzTcObV0Zg5X",
    "outputId": "927280d3-f734-4d90-b2c0-f9ff5eb1d8a5"
   },
   "outputs": [
    {
     "name": "stdout",
     "output_type": "stream",
     "text": [
      "Keyword arguments: {'wine': 'merlot', 'entree': 'mutton', 'dessert': 'macaroon'}\n"
     ]
    }
   ],
   "source": [
    "print_kwargs(wine=\"merlot\", entree=\"mutton\", dessert=\"macaroon\")"
   ]
  },
  {
   "cell_type": "markdown",
   "metadata": {
    "id": "QWgaaV1mbSIY"
   },
   "source": [
    "データ型が辞書である`b`を関数に渡すときは`**b`とする。"
   ]
  },
  {
   "cell_type": "code",
   "execution_count": 6,
   "metadata": {
    "colab": {
     "base_uri": "https://localhost:8080/"
    },
    "id": "Hk43YEtyZt9g",
    "outputId": "dcbfdd4a-e7d3-4028-a08c-9b0de73e32a2"
   },
   "outputs": [
    {
     "name": "stdout",
     "output_type": "stream",
     "text": [
      "Keyword arguments: {'wine': 'merlot', 'entree': 'mutton', 'dessert': 'macaroon'}\n"
     ]
    }
   ],
   "source": [
    "b = {'wine': 'merlot', 'entree': 'mutton', 'dessert': 'macaroon'}\n",
    "print_kwargs(**b)"
   ]
  },
  {
   "cell_type": "markdown",
   "metadata": {
    "id": "Nv62S1AQiFY4"
   },
   "source": [
    "`b`をそのまま渡すとエラーを返される。"
   ]
  },
  {
   "cell_type": "code",
   "execution_count": 7,
   "metadata": {
    "colab": {
     "base_uri": "https://localhost:8080/",
     "height": 173
    },
    "id": "Si5nNMKZiA-I",
    "outputId": "d2f14890-d16d-4ccc-8ae7-14682cc089a1"
   },
   "outputs": [
    {
     "ename": "TypeError",
     "evalue": "ignored",
     "output_type": "error",
     "traceback": [
      "\u001b[0;31m---------------------------------------------------------------------------\u001b[0m",
      "\u001b[0;31mTypeError\u001b[0m                                 Traceback (most recent call last)",
      "\u001b[0;32m<ipython-input-7-1f657ffa537c>\u001b[0m in \u001b[0;36m<module>\u001b[0;34m()\u001b[0m\n\u001b[0;32m----> 1\u001b[0;31m \u001b[0mprint_kwargs\u001b[0m\u001b[0;34m(\u001b[0m\u001b[0mb\u001b[0m\u001b[0;34m)\u001b[0m\u001b[0;34m\u001b[0m\u001b[0;34m\u001b[0m\u001b[0m\n\u001b[0m",
      "\u001b[0;31mTypeError\u001b[0m: print_kwargs() takes 0 positional arguments but 1 was given"
     ]
    }
   ],
   "source": [
    "print_kwargs(b)"
   ]
  },
  {
   "cell_type": "markdown",
   "metadata": {
    "id": "F4U-sD0Yb4Wf"
   },
   "source": [
    "## 「\\*」 キーワード専用引数\n",
    "\\*以降のキーワード引数は関数呼び出し時にキーワードが必須になる。"
   ]
  },
  {
   "cell_type": "code",
   "execution_count": 8,
   "metadata": {
    "id": "OKPdALYJbcR_"
   },
   "outputs": [],
   "source": [
    "def print_data(data, *, start=0, end=100):\n",
    "    for value in (data[start:end]):\n",
    "        print(value)"
   ]
  },
  {
   "cell_type": "code",
   "execution_count": 9,
   "metadata": {
    "colab": {
     "base_uri": "https://localhost:8080/"
    },
    "id": "sW_j3ogwdhSP",
    "outputId": "5db65a41-894b-4a5c-9af0-656a2bba5406"
   },
   "outputs": [
    {
     "name": "stdout",
     "output_type": "stream",
     "text": [
      "1\n",
      "2\n",
      "3\n",
      "4\n",
      "5\n"
     ]
    }
   ],
   "source": [
    "data = [1, 2, 3, 4, 5]\n",
    "print_data(data)"
   ]
  },
  {
   "cell_type": "code",
   "execution_count": 10,
   "metadata": {
    "colab": {
     "base_uri": "https://localhost:8080/"
    },
    "id": "ecF-6rBMeD03",
    "outputId": "7c833b8c-21b0-48bc-aa1a-902b84960c60"
   },
   "outputs": [
    {
     "name": "stdout",
     "output_type": "stream",
     "text": [
      "2\n",
      "3\n"
     ]
    }
   ],
   "source": [
    "print_data(data, start=1, end=3)"
   ]
  },
  {
   "cell_type": "markdown",
   "metadata": {
    "id": "FriqUmW_f3pj"
   },
   "source": [
    "関数呼び出し時にキーワードを指定することが必須であるため、以下の例では実行できない。"
   ]
  },
  {
   "cell_type": "code",
   "execution_count": 11,
   "metadata": {
    "colab": {
     "base_uri": "https://localhost:8080/",
     "height": 173
    },
    "id": "oSUgOTxKft4x",
    "outputId": "2a53457c-2158-42e1-df71-ab9969e25442"
   },
   "outputs": [
    {
     "ename": "TypeError",
     "evalue": "ignored",
     "output_type": "error",
     "traceback": [
      "\u001b[0;31m---------------------------------------------------------------------------\u001b[0m",
      "\u001b[0;31mTypeError\u001b[0m                                 Traceback (most recent call last)",
      "\u001b[0;32m<ipython-input-11-580e69399918>\u001b[0m in \u001b[0;36m<module>\u001b[0;34m()\u001b[0m\n\u001b[0;32m----> 1\u001b[0;31m \u001b[0mprint_data\u001b[0m\u001b[0;34m(\u001b[0m\u001b[0mdata\u001b[0m\u001b[0;34m,\u001b[0m \u001b[0;36m1\u001b[0m\u001b[0;34m,\u001b[0m \u001b[0;36m3\u001b[0m\u001b[0;34m)\u001b[0m\u001b[0;34m\u001b[0m\u001b[0;34m\u001b[0m\u001b[0m\n\u001b[0m",
      "\u001b[0;31mTypeError\u001b[0m: print_data() takes 1 positional argument but 3 were given"
     ]
    }
   ],
   "source": [
    "print_data(data, 1, 3)"
   ]
  },
  {
   "cell_type": "markdown",
   "metadata": {
    "id": "0FMJpMQ9fQ-i"
   },
   "source": [
    "以下の例はキーワード専用引数がないため、関数呼び出し時にキーワードを指定しなくとも実行できる。"
   ]
  },
  {
   "cell_type": "code",
   "execution_count": 12,
   "metadata": {
    "id": "s3TsU1LWewa8"
   },
   "outputs": [],
   "source": [
    "def print_data(data, start=0, end=100):\n",
    "    for value in (data[start:end]):\n",
    "        print(value)"
   ]
  },
  {
   "cell_type": "code",
   "execution_count": 13,
   "metadata": {
    "colab": {
     "base_uri": "https://localhost:8080/"
    },
    "id": "0PDwkOMgfMIa",
    "outputId": "63e4f698-d1df-41da-fb32-35c59ea88a78"
   },
   "outputs": [
    {
     "name": "stdout",
     "output_type": "stream",
     "text": [
      "2\n",
      "3\n"
     ]
    }
   ],
   "source": [
    "print_data(data, 1, 3)"
   ]
  }
 ],
 "metadata": {
  "colab": {
   "name": "scratchpad",
   "provenance": []
  },
  "kernelspec": {
   "display_name": "Python 3",
   "name": "python3"
  }
 },
 "nbformat": 4,
 "nbformat_minor": 0
}