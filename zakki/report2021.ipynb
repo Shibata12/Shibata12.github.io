{
 "cells": [
  {
   "cell_type": "markdown",
   "id": "1ac30ede-0c31-455e-90eb-89469a8f8add",
   "metadata": {
    "tags": []
   },
   "source": [
    "# 2021年度（令和3年度）の睡眠時間と勉強時間\n",
    "**投稿日：2022年3月31日<br>最終更新日：2022年3月31日**\n",
    "\n",
    "```{margin} aTimeLogger\n",
    "有料アプリです。確か600円で購入しました。シンプルで使いやすいです。記録したデータをcsv形式やHTML形式でエクスポートできます。行動記録をアプリで手軽にしたい人におすすめです。\n",
    "```\n",
    "\n",
    "大学院に入学してから1年が経とうとしています。修士課程は2年間あるため、丁度折り返し地点です。2021年度から行動記録データを蓄積してきたので、今回は睡眠時間と勉強時間を軽く見ていきます。なぜ睡眠と勉強？費やした時間のTOP2だからです。行動記録にはアプリ([aTimeLogger](http://www.atimelogger.com/))を使用しました。記録した期間は2021/4/1～2022/3/31です。行動記録データは公開していません。\n",
    "\n",
    "1番目に費やした時間が多いのは睡眠です。1年のうち34.5%(3024時間)を睡眠に費やしています。一日あたりの平均睡眠時間は約8時間です。下のヒストグラムを見ると、2時間未満の睡眠があります。これは昼寝だったり、布団に入ったけど寝れなかったりした時の記録です。"
   ]
  },
  {
   "cell_type": "code",
   "execution_count": 1,
   "id": "cc80abde-e855-4fcd-8f37-65366a9b77a5",
   "metadata": {
    "tags": [
     "hide-input"
    ]
   },
   "outputs": [
    {
     "name": "stdout",
     "output_type": "stream",
     "text": [
      "     ｱｸﾃｨﾋﾞﾃｨの種類  記録時間                   開始                   終了 コメント\n",
      "18            睡眠  7.98  2022年 03月 30日 23:10  2022年 03月 31日 07:09  NaN\n",
      "34            睡眠  7.69  2022年 03月 29日 23:31  2022年 03月 30日 07:12  NaN\n",
      "50            睡眠  7.94  2022年 03月 28日 22:58  2022年 03月 29日 06:54  NaN\n",
      "68            睡眠  7.59  2022年 03月 27日 23:10  2022年 03月 28日 06:46  NaN\n",
      "81            睡眠  9.09  2022年 03月 26日 22:34  2022年 03月 27日 07:40  NaN\n",
      "...          ...   ...                  ...                  ...  ...\n",
      "5776          睡眠  7.03   2021年 04月 4日 22:29   2021年 04月 5日 05:31  NaN\n",
      "5790          睡眠  7.77   2021年 04月 3日 22:53   2021年 04月 4日 06:40  NaN\n",
      "5809          睡眠  8.42   2021年 04月 2日 22:32   2021年 04月 3日 06:57  NaN\n",
      "5824          睡眠  8.86   2021年 04月 1日 22:41   2021年 04月 2日 07:33  NaN\n",
      "5839          睡眠  7.27  2021年 03月 31日 22:58   2021年 04月 1日 06:14  NaN\n",
      "\n",
      "[393 rows x 5 columns]\n"
     ]
    },
    {
     "data": {
      "image/png": "[encoded data removed]",
      "text/plain": [
       "<Figure size 432x288 with 1 Axes>"
      ]
     },
     "metadata": {
      "needs_background": "light"
     },
     "output_type": "display_data"
    }
   ],
   "source": [
    "import pandas as pd\n",
    "import numpy as np\n",
    "import matplotlib.pyplot as plt\n",
    "import japanize_matplotlib\n",
    "\n",
    "df = pd.read_csv(\"report-1648723557.csv\")[:-63]\n",
    "suimin_df = df[df[\"ｱｸﾃｨﾋﾞﾃｨの種類\"]==\"睡眠\"]\n",
    "print(suimin_df)\n",
    "plt.hist(suimin_df[\"記録時間\"].to_numpy(dtype=float), bins=25)\n",
    "plt.xlabel(\"睡眠時間\")\n",
    "plt.ylabel(\"度数\")\n",
    "plt.show()"
   ]
  },
  {
   "cell_type": "markdown",
   "id": "aa8d7dbc-1693-4a06-b16c-01979c687b88",
   "metadata": {},
   "source": [
    "2番目に費やした時間が多いのは勉強です。1年のうち21.1%(1847時間)を勉強に費やしています。一日あたりの平均勉強時間は約5.1時間です。勉強と一口に言っても様々な種類があります。講義や研究、理工書を読むなど色々あります。今回は講義について見ていきます。講義に費やした時間は641時間です。18単位分の講義に対して641時間を費やしたため、1単位当たり35.6時間で学修しました。18単位の内訳は以下の通りです。\n",
    "\n",
    "|単位数|科目名|学修時間|\n",
    "|:---|:---:|---:|\n",
    "|1|国際コミュニケーション基礎B|25.09|\n",
    "|1|人間システム基礎論Ⅱ|18.62|\n",
    "|1|データ解析論|17.03|\n",
    "|1|研究者倫理|13.61|\n",
    "|1|人工知能特論|50.38|\n",
    "|1|機械学習特論|40.74|\n",
    "|2|アドバンスト制御工学特論|44.99|\n",
    "|1|数値計算法特論|24.8|\n",
    "|2|情報システム特論|112.68|\n",
    "|2|統計的信号処理特論|65.94|\n",
    "|2|知能情報学特論|106.12|\n",
    "|1|コンピュータ科学特論|23.46|\n",
    "|2|深層強化学習特論|97.05|\n",
    "|合計18単位|合計13科目|合計640.51時間|\n",
    "\n",
    "1単位当たりの学修時間を計算すると、手間をかけている科目は人工知能特論や情報システム特論、知能情報学特論、深層強化学習特論だといえます。逆に手間をかけていない科目は人間システム基礎論Ⅱや、データ解析論、研究者倫理だといえます。"
   ]
  }
 ],
 "metadata": {
  "kernelspec": {
   "display_name": "Python 3",
   "language": "python",
   "name": "python3"
  },
  "language_info": {
   "codemirror_mode": {
    "name": "ipython",
    "version": 3
   },
   "file_extension": ".py",
   "mimetype": "text/x-python",
   "name": "python",
   "nbconvert_exporter": "python",
   "pygments_lexer": "ipython3",
   "version": "3.8.8"
  }
 },
 "nbformat": 4,
 "nbformat_minor": 5
}
