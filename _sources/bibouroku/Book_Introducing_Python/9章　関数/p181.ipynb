{
  "cells": [
    {
      "cell_type": "markdown",
      "metadata": {
        "id": "dgUNeIc9Nokc"
      },
      "source": [
        "# デフォルト引数にはイミュータブルなデータ型を使用する\n",
        "**投稿日：2022年2月13日<br>最終更新日：2022年2月13日**\n",
        "\n",
        "**参照  [入門 Python 3 第2版 オライリー・ジャパン](https://www.oreilly.co.jp/books/9784873119328/) p.181 9.3.4 デフォルト引数値の指定**\n",
        "\n",
        "デフォルト引数値としてリストや辞書などのミュータブルなデータ型を使用するのは良くないそうです。例えば以下のコードのようにデフォルト引数値を`result=[]`としている場合です。"
      ]
    },
    {
      "cell_type": "code",
      "execution_count": 1,
      "metadata": {
        "id": "lIYdn1woOS1n"
      },
      "outputs": [],
      "source": [
        "def buggy(arg, result=[]):\n",
        "    result.append(arg)\n",
        "    print(result)"
      ]
    },
    {
      "cell_type": "code",
      "execution_count": 2,
      "metadata": {
        "colab": {
          "base_uri": "https://localhost:8080/"
        },
        "id": "-_FQ9Q-jRGkx",
        "outputId": "f5a3e2eb-1d77-424c-b9cb-bc816e7941a1"
      },
      "outputs": [
        {
          "name": "stdout",
          "output_type": "stream",
          "text": [
            "['a']\n"
          ]
        }
      ],
      "source": [
        "buggy(\"a\")"
      ]
    },
    {
      "cell_type": "code",
      "execution_count": 3,
      "metadata": {
        "colab": {
          "base_uri": "https://localhost:8080/"
        },
        "id": "lWVqLaXDRJ2B",
        "outputId": "ad7d451e-9595-420b-e113-6cc25758e7e6"
      },
      "outputs": [
        {
          "name": "stdout",
          "output_type": "stream",
          "text": [
            "['a', 'b']\n"
          ]
        }
      ],
      "source": [
        "buggy(\"b\")  # ['b']が返されることを想定していた"
      ]
    },
    {
      "cell_type": "markdown",
      "metadata": {
        "id": "Mr4wLmaCRPdf"
      },
      "source": [
        "デフォルト引数の値が計算されるのは、関数が呼び出された時ではなく、定義されるときです。デフォルト引数値の`result=[]`は関数定義時にしか実行されません。\n",
        "\n",
        "このコードは次のように書いておけば想定した動作をするでしょう。"
      ]
    },
    {
      "cell_type": "code",
      "execution_count": 4,
      "metadata": {
        "id": "_-7R1OQIRLMg"
      },
      "outputs": [],
      "source": [
        "def works(arg):\n",
        "    result = []\n",
        "    result.append(arg)\n",
        "    return result"
      ]
    },
    {
      "cell_type": "code",
      "execution_count": 5,
      "metadata": {
        "colab": {
          "base_uri": "https://localhost:8080/"
        },
        "id": "w0y30rWjThq5",
        "outputId": "039fc88f-2124-419b-a9a4-395663f5f6e4"
      },
      "outputs": [
        {
          "data": {
            "text/plain": [
              "['a']"
            ]
          },
          "execution_count": 5,
          "metadata": {},
          "output_type": "execute_result"
        }
      ],
      "source": [
        "works(\"a\")"
      ]
    },
    {
      "cell_type": "code",
      "execution_count": 6,
      "metadata": {
        "colab": {
          "base_uri": "https://localhost:8080/"
        },
        "id": "sTXXDUC0Tkos",
        "outputId": "44b81431-f1a1-47d2-f53c-de77e9ea7570"
      },
      "outputs": [
        {
          "data": {
            "text/plain": [
              "['b']"
            ]
          },
          "execution_count": 6,
          "metadata": {},
          "output_type": "execute_result"
        }
      ],
      "source": [
        "works(\"b\")"
      ]
    },
    {
      "cell_type": "markdown",
      "metadata": {
        "id": "YodL59dTTwdS"
      },
      "source": [
        "以下のコードの方法もあります。"
      ]
    },
    {
      "cell_type": "code",
      "execution_count": 7,
      "metadata": {
        "id": "cvUvxBNFTl6G"
      },
      "outputs": [],
      "source": [
        "def nobuggy(arg, result=None):\n",
        "    if result is None:\n",
        "        result = []\n",
        "    result.append(arg)\n",
        "    print(result)"
      ]
    },
    {
      "cell_type": "code",
      "execution_count": 8,
      "metadata": {
        "colab": {
          "base_uri": "https://localhost:8080/"
        },
        "id": "rf0K6yHcVLnB",
        "outputId": "46a1c923-8448-4ccd-8564-2552b2721d53"
      },
      "outputs": [
        {
          "name": "stdout",
          "output_type": "stream",
          "text": [
            "['a']\n"
          ]
        }
      ],
      "source": [
        "nobuggy(\"a\")"
      ]
    },
    {
      "cell_type": "code",
      "execution_count": 9,
      "metadata": {
        "colab": {
          "base_uri": "https://localhost:8080/"
        },
        "id": "5OMB5tRpVNhD",
        "outputId": "4bee66ad-5a7a-4676-a1a1-79307153555c"
      },
      "outputs": [
        {
          "name": "stdout",
          "output_type": "stream",
          "text": [
            "['b']\n"
          ]
        }
      ],
      "source": [
        "nobuggy(\"b\")"
      ]
    }
  ],
  "metadata": {
    "colab": {
      "name": "scratchpad",
      "provenance": []
    },
    "kernelspec": {
      "display_name": "Python 3",
      "name": "python3"
    }
  },
  "nbformat": 4,
  "nbformat_minor": 0
}
