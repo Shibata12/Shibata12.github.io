{
  "cells": [
    {
      "cell_type": "markdown",
      "source": [
        "# 関数の引数で見かける「\\*args」,「\\*\\*kwargs」,「\\*」\n",
        "**投稿日：2022年2月14日<br>最終更新日：2022年2月14日**\n",
        "\n",
        "**参照  [入門 Python 3 第2版 オライリー・ジャパン](https://www.oreilly.co.jp/books/9784873119328/) pp.183-187**\n",
        "\n",
        "ドキュメントを読んでいると、関数の引数に「\\*args」,「\\*\\*kwargs」,「\\*」といった文字を見かけます。「\\*args」は可変個の実引数をとることができます。「\\*\\*kwargs」は複数のキーワード引数を1個の辞書にまとめることができます。「\\*」はキーワード専用引数を指定できます。"
      ],
      "metadata": {
        "id": "Hon6hrhTNHu4"
      }
    },
    {
      "cell_type": "markdown",
      "source": [
        "## 「\\*args」 \\*による位置引数"
      ],
      "metadata": {
        "id": "GUrTixRfVQIx"
      }
    },
    {
      "cell_type": "code",
      "execution_count": 1,
      "metadata": {
        "id": "lIYdn1woOS1n"
      },
      "outputs": [],
      "source": [
        "def print_args(*args):\n",
        "    print(\"Positional tuple:\", args)"
      ]
    },
    {
      "cell_type": "markdown",
      "source": [
        "関数呼び出しの実引数を複数指定することができる。複数の引数は関数内でタプルとして扱われる。"
      ],
      "metadata": {
        "id": "5wOvh4-CW4WF"
      }
    },
    {
      "cell_type": "code",
      "source": [
        "print_args(1, 2, 3, \"よん\")"
      ],
      "metadata": {
        "id": "xNcqM6CtWWzJ",
        "outputId": "c2781719-9f19-4b6e-b7ea-2a210888ebbc",
        "colab": {
          "base_uri": "https://localhost:8080/"
        }
      },
      "execution_count": 2,
      "outputs": [
        {
          "output_type": "stream",
          "name": "stdout",
          "text": [
            "Positional tuple: (1, 2, 3, 'よん')\n"
          ]
        }
      ]
    },
    {
      "cell_type": "markdown",
      "source": [
        "`*a`として渡すとタプルのアンパックが行われる。"
      ],
      "metadata": {
        "id": "_kp1yHqVXouE"
      }
    },
    {
      "cell_type": "code",
      "source": [
        "a = (1, 2, 3, 4)\n",
        "print_args(a)\n",
        "print_args(*a)"
      ],
      "metadata": {
        "id": "VQbLL4ArWlbv",
        "outputId": "532deb71-dd9b-4f7d-a61f-1374ef2c530a",
        "colab": {
          "base_uri": "https://localhost:8080/"
        }
      },
      "execution_count": 3,
      "outputs": [
        {
          "output_type": "stream",
          "name": "stdout",
          "text": [
            "Positional tuple: ((1, 2, 3, 4),)\n",
            "Positional tuple: (1, 2, 3, 4)\n"
          ]
        }
      ]
    },
    {
      "cell_type": "markdown",
      "source": [
        "## 「\\*\\*kwargs」 \\*\\*によるキーワード引数"
      ],
      "metadata": {
        "id": "eP-fjbAPYzsW"
      }
    },
    {
      "cell_type": "code",
      "source": [
        "def print_kwargs(**kwargs):\n",
        "    print(\"Keyword arguments:\", kwargs)"
      ],
      "metadata": {
        "id": "kwjgOdl3XhJj"
      },
      "execution_count": 4,
      "outputs": []
    },
    {
      "cell_type": "markdown",
      "source": [
        "複数のキーワード引数を渡すことができる。複数のキーワード引数は関数内で辞書として扱われる。"
      ],
      "metadata": {
        "id": "sIj6UN63ZwEv"
      }
    },
    {
      "cell_type": "code",
      "source": [
        "print_kwargs(wine=\"merlot\", entree=\"mutton\", dessert=\"macaroon\")"
      ],
      "metadata": {
        "id": "DzTcObV0Zg5X",
        "outputId": "927280d3-f734-4d90-b2c0-f9ff5eb1d8a5",
        "colab": {
          "base_uri": "https://localhost:8080/"
        }
      },
      "execution_count": 5,
      "outputs": [
        {
          "output_type": "stream",
          "name": "stdout",
          "text": [
            "Keyword arguments: {'wine': 'merlot', 'entree': 'mutton', 'dessert': 'macaroon'}\n"
          ]
        }
      ]
    },
    {
      "cell_type": "markdown",
      "source": [
        "データ型が辞書である`b`を関数に渡すときは`**b`とする。"
      ],
      "metadata": {
        "id": "QWgaaV1mbSIY"
      }
    },
    {
      "cell_type": "code",
      "source": [
        "b = {'wine': 'merlot', 'entree': 'mutton', 'dessert': 'macaroon'}\n",
        "print_kwargs(**b)"
      ],
      "metadata": {
        "id": "Hk43YEtyZt9g",
        "outputId": "dcbfdd4a-e7d3-4028-a08c-9b0de73e32a2",
        "colab": {
          "base_uri": "https://localhost:8080/"
        }
      },
      "execution_count": 6,
      "outputs": [
        {
          "output_type": "stream",
          "name": "stdout",
          "text": [
            "Keyword arguments: {'wine': 'merlot', 'entree': 'mutton', 'dessert': 'macaroon'}\n"
          ]
        }
      ]
    },
    {
      "cell_type": "markdown",
      "source": [
        "`b`をそのまま渡すとエラーを返される。"
      ],
      "metadata": {
        "id": "Nv62S1AQiFY4"
      }
    },
    {
      "cell_type": "code",
      "source": [
        "print_kwargs(b)"
      ],
      "metadata": {
        "id": "Si5nNMKZiA-I",
        "outputId": "d2f14890-d16d-4ccc-8ae7-14682cc089a1",
        "colab": {
          "base_uri": "https://localhost:8080/",
          "height": 173
        }
      },
      "execution_count": 7,
      "outputs": [
        {
          "output_type": "error",
          "ename": "TypeError",
          "evalue": "ignored",
          "traceback": [
            "\u001b[0;31m---------------------------------------------------------------------------\u001b[0m",
            "\u001b[0;31mTypeError\u001b[0m                                 Traceback (most recent call last)",
            "\u001b[0;32m<ipython-input-7-1f657ffa537c>\u001b[0m in \u001b[0;36m<module>\u001b[0;34m()\u001b[0m\n\u001b[0;32m----> 1\u001b[0;31m \u001b[0mprint_kwargs\u001b[0m\u001b[0;34m(\u001b[0m\u001b[0mb\u001b[0m\u001b[0;34m)\u001b[0m\u001b[0;34m\u001b[0m\u001b[0;34m\u001b[0m\u001b[0m\n\u001b[0m",
            "\u001b[0;31mTypeError\u001b[0m: print_kwargs() takes 0 positional arguments but 1 was given"
          ]
        }
      ]
    },
    {
      "cell_type": "markdown",
      "source": [
        "## 「\\*」 キーワード専用引数\n",
        "\\*以降のキーワード引数は関数呼び出し時にキーワードが必須になる。"
      ],
      "metadata": {
        "id": "F4U-sD0Yb4Wf"
      }
    },
    {
      "cell_type": "code",
      "source": [
        "def print_data(data, *, start=0, end=100):\n",
        "    for value in (data[start:end]):\n",
        "        print(value)"
      ],
      "metadata": {
        "id": "OKPdALYJbcR_"
      },
      "execution_count": 8,
      "outputs": []
    },
    {
      "cell_type": "code",
      "source": [
        "data = [1, 2, 3, 4, 5]\n",
        "print_data(data)"
      ],
      "metadata": {
        "id": "sW_j3ogwdhSP",
        "outputId": "5db65a41-894b-4a5c-9af0-656a2bba5406",
        "colab": {
          "base_uri": "https://localhost:8080/"
        }
      },
      "execution_count": 9,
      "outputs": [
        {
          "output_type": "stream",
          "name": "stdout",
          "text": [
            "1\n",
            "2\n",
            "3\n",
            "4\n",
            "5\n"
          ]
        }
      ]
    },
    {
      "cell_type": "code",
      "source": [
        "print_data(data, start=1, end=3)"
      ],
      "metadata": {
        "id": "ecF-6rBMeD03",
        "outputId": "7c833b8c-21b0-48bc-aa1a-902b84960c60",
        "colab": {
          "base_uri": "https://localhost:8080/"
        }
      },
      "execution_count": 10,
      "outputs": [
        {
          "output_type": "stream",
          "name": "stdout",
          "text": [
            "2\n",
            "3\n"
          ]
        }
      ]
    },
    {
      "cell_type": "markdown",
      "source": [
        "関数呼び出し時にキーワードを指定することが必須であるため、以下の例では実行できない。"
      ],
      "metadata": {
        "id": "FriqUmW_f3pj"
      }
    },
    {
      "cell_type": "code",
      "source": [
        "print_data(data, 1, 3)"
      ],
      "metadata": {
        "id": "oSUgOTxKft4x",
        "outputId": "2a53457c-2158-42e1-df71-ab9969e25442",
        "colab": {
          "base_uri": "https://localhost:8080/",
          "height": 173
        }
      },
      "execution_count": 11,
      "outputs": [
        {
          "output_type": "error",
          "ename": "TypeError",
          "evalue": "ignored",
          "traceback": [
            "\u001b[0;31m---------------------------------------------------------------------------\u001b[0m",
            "\u001b[0;31mTypeError\u001b[0m                                 Traceback (most recent call last)",
            "\u001b[0;32m<ipython-input-11-580e69399918>\u001b[0m in \u001b[0;36m<module>\u001b[0;34m()\u001b[0m\n\u001b[0;32m----> 1\u001b[0;31m \u001b[0mprint_data\u001b[0m\u001b[0;34m(\u001b[0m\u001b[0mdata\u001b[0m\u001b[0;34m,\u001b[0m \u001b[0;36m1\u001b[0m\u001b[0;34m,\u001b[0m \u001b[0;36m3\u001b[0m\u001b[0;34m)\u001b[0m\u001b[0;34m\u001b[0m\u001b[0;34m\u001b[0m\u001b[0m\n\u001b[0m",
            "\u001b[0;31mTypeError\u001b[0m: print_data() takes 1 positional argument but 3 were given"
          ]
        }
      ]
    },
    {
      "cell_type": "markdown",
      "source": [
        "以下の例はキーワード専用引数がないため、関数呼び出し時にキーワードを指定しなくとも実行できる。"
      ],
      "metadata": {
        "id": "0FMJpMQ9fQ-i"
      }
    },
    {
      "cell_type": "code",
      "source": [
        "def print_data(data, start=0, end=100):\n",
        "    for value in (data[start:end]):\n",
        "        print(value)"
      ],
      "metadata": {
        "id": "s3TsU1LWewa8"
      },
      "execution_count": 12,
      "outputs": []
    },
    {
      "cell_type": "code",
      "source": [
        "print_data(data, 1, 3)"
      ],
      "metadata": {
        "id": "0PDwkOMgfMIa",
        "outputId": "63e4f698-d1df-41da-fb32-35c59ea88a78",
        "colab": {
          "base_uri": "https://localhost:8080/"
        }
      },
      "execution_count": 13,
      "outputs": [
        {
          "output_type": "stream",
          "name": "stdout",
          "text": [
            "2\n",
            "3\n"
          ]
        }
      ]
    }
  ],
  "metadata": {
    "colab": {
      "name": "scratchpad",
      "provenance": []
    },
    "kernelspec": {
      "display_name": "Python 3",
      "name": "python3"
    }
  },
  "nbformat": 4,
  "nbformat_minor": 0
}